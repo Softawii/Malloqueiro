{
 "cells": [
  {
   "cell_type": "code",
   "execution_count": null,
   "metadata": {
    "execution": {
     "iopub.execute_input": "2021-12-08T01:07:15.955538Z",
     "iopub.status.busy": "2021-12-08T01:07:15.955004Z"
    }
   },
   "outputs": [],
   "source": [
    "import pandas as pd\n",
    "from matplotlib import pyplot as plt\n",
    "import seaborn as sns\n",
    "import numpy as np\n",
    "from os import listdir\n",
    "from os.path import isfile, join"
   ]
  },
  {
   "cell_type": "code",
   "execution_count": null,
   "metadata": {
    "tags": []
   },
   "outputs": [],
   "source": [
    "path = './resultados/benchmark_1/'\n",
    "results_path = [f for f in listdir(path) if isfile(join(path, f)) and '.csv' in join(path, f) ]\n",
    "len(results_path)"
   ]
  },
  {
   "cell_type": "code",
   "execution_count": null,
   "metadata": {
    "tags": []
   },
   "outputs": [],
   "source": [
    "df = None\n",
    "for result_path in results_path: \n",
    "    if df is None:\n",
    "        df = pd.read_csv(join(path, result_path), sep=';',header=None)\n",
    "        df.columns = ['Tamanho', 'Tempo Malloqueiro', 'Tempo Malloc']\n",
    "    else:\n",
    "        df_t = pd.read_csv(join(path, result_path), sep=';',header=None)\n",
    "        df_t.columns = ['Tamanho', 'Tempo Malloqueiro', 'Tempo Malloc']\n",
    "        df['Tempo Malloqueiro'] = df['Tempo Malloqueiro'] + df_t['Tempo Malloqueiro']\n",
    "        df['Tempo Malloc'] = df['Tempo Malloc'] + df_t['Tempo Malloc']\n",
    "\n",
    "df['Tempo Malloqueiro'] = df['Tempo Malloqueiro'] / len(results_path)\n",
    "df['Tempo Malloc'] = df['Tempo Malloc'] / len(results_path)\n",
    "df"
   ]
  },
  {
   "cell_type": "code",
   "execution_count": null,
   "metadata": {},
   "outputs": [],
   "source": [
    "sns.set_theme()\n",
    "plt.figure(figsize=(10,10), facecolor='white')\n",
    "plt.plot(df['Tempo Malloqueiro'], df['Tamanho'], label='Tempo Malloqueiro')\n",
    "plt.plot(df['Tempo Malloc'], df['Tamanho'], label='Tempo glibc')\n",
    "plt.xticks(np.arange(0,int(max(df['Tempo Malloqueiro'].max(),df['Tempo Malloc'].max()))+0.6, 0.2))\n",
    "plt.yticks(np.arange(1024,1024000+1025, 1024)[::100])\n",
    "plt.ticklabel_format(style='plain')\n",
    "plt.ylabel('Bytes')\n",
    "plt.xlabel('Tempo em ms')\n",
    "plt.title('Tempo em ms x Tamanho em bytes')\n",
    "plt.legend()\n",
    "plt.savefig('resultados/grafico_1.png', dpi=500)\n",
    "plt.show()"
   ]
  },
  {
   "cell_type": "code",
   "execution_count": null,
   "metadata": {},
   "outputs": [],
   "source": [
    "# Tempo de alocação do malloqueiro de 1024 até 1024000 bytes a cada 1024 bytes de forma SEQUENCIAL\n",
    "df_bench_3 = pd.read_csv('./resultados/benchmark_3/resultado.csv', sep=';',header=None)\n",
    "\n",
    "# Tempo de alocação do malloqueiro de 1024 até 1024000 bytes a cada 1024 bytes de forma PARALELA\n",
    "df_bench_4 = pd.read_csv('./resultados/benchmark_4/resultado.csv', sep=';',header=None)\n",
    "\n",
    "# Tempo de alocação do malloc do glibc de 1024 até 1024000 bytes a cada 1024 bytes de forma PARALELA\n",
    "df_bench_5 = pd.read_csv('./resultados/benchmark_5/resultado.csv', sep=';',header=None)\n",
    "\n",
    "# Tempo de alocação do malloc do glibc de 1024 até 1024000 bytes a cada 1024 bytes de forma SEQUENCIAL\n",
    "df_bench_6 = pd.read_csv('./resultados/benchmark_6/resultado.csv', sep=';',header=None)\n",
    "\n",
    "medias_alocacoes_sequenciais = {\n",
    "    'Malloqueiro': df_bench_4.mean().to_list()[0],\n",
    "    'glibc': df_bench_6.mean().to_list()[0]\n",
    "}\n",
    "\n",
    "medias_alocacoes_paralelas = {\n",
    "    'Malloqueiro': df_bench_4.mean().to_list()[0],\n",
    "    'glibc': df_bench_5.mean().to_list()[0]\n",
    "}\n",
    "medias_alocacoes_sequenciais, medias_alocacoes_paralelas"
   ]
  },
  {
   "cell_type": "code",
   "execution_count": null,
   "metadata": {},
   "outputs": [],
   "source": [
    "porcentagem_do_malloqueiro_em_relacao_ao_malloc_sequencial = (medias_alocacoes_sequenciais['Malloqueiro'] / medias_alocacoes_sequenciais['Malloc'] * 100) - 100\n",
    "porcentagem_do_malloqueiro_em_relacao_ao_malloc_sequencial"
   ]
  },
  {
   "cell_type": "code",
   "execution_count": null,
   "metadata": {},
   "outputs": [],
   "source": [
    "keys = medias_alocacoes_sequenciais.keys()\n",
    "vals = medias_alocacoes_sequenciais.values()\n",
    "\n",
    "plt.bar(keys, vals, color='#95D1CC')\n",
    "\n",
    "plt.ylabel('ms')\n",
    "# plt.xlabel('Algoritmo')\n",
    "plt.xticks(list(keys))\n",
    "plt.title('Sequencial')\n",
    "ax = plt.gca()\n",
    "plt.bar_label(ax.containers[0])\n",
    "\n",
    "plt.savefig('resultados/grafico_2.png', dpi=500)\n",
    "plt.show()"
   ]
  },
  {
   "cell_type": "code",
   "execution_count": null,
   "metadata": {},
   "outputs": [],
   "source": [
    "porcentagem_do_malloqueiro_em_relacao_ao_malloc_paralelo = (medias_alocacoes_paralelas['Malloqueiro'] / medias_alocacoes_paralelas['Malloc'] * 100) - 100\n",
    "porcentagem_do_malloqueiro_em_relacao_ao_malloc_paralelo"
   ]
  },
  {
   "cell_type": "code",
   "execution_count": null,
   "metadata": {
    "tags": []
   },
   "outputs": [],
   "source": [
    "keys = medias_alocacoes_paralelas.keys()\n",
    "vals = medias_alocacoes_paralelas.values()\n",
    "\n",
    "plt.bar(keys, vals, color='#A13333')\n",
    "\n",
    "plt.ylabel('ms')\n",
    "# plt.xlabel('Algoritmo')\n",
    "plt.xticks(list(keys))\n",
    "plt.title('Paralelo')\n",
    "ax = plt.gca()\n",
    "plt.bar_label(ax.containers[0])\n",
    "\n",
    "plt.savefig('resultados/grafico_3.png', dpi=500)\n",
    "plt.show()"
   ]
  }
 ],
 "metadata": {
  "interpreter": {
   "hash": "c5abe1dd6f168b4f5e67de02cffc00ce8cef82ade2b382edc6fecc892b15c5a1"
  },
  "kernelspec": {
   "display_name": "Python 3 (ipykernel)",
   "language": "python",
   "name": "python3"
  },
  "language_info": {
   "codemirror_mode": {
    "name": "ipython",
    "version": 3
   },
   "file_extension": ".py",
   "mimetype": "text/x-python",
   "name": "python",
   "nbconvert_exporter": "python",
   "pygments_lexer": "ipython3",
   "version": "3.8.10"
  }
 },
 "nbformat": 4,
 "nbformat_minor": 4
}
